{
 "cells": [
  {
   "cell_type": "markdown",
   "id": "61fcbfef-0519-4ec6-bf30-634bb5a1b6b9",
   "metadata": {},
   "source": [
    "# Plot training accuracy"
   ]
  },
  {
   "cell_type": "code",
   "execution_count": 18,
   "id": "196f9581-ddf4-491f-9341-6c3b10809845",
   "metadata": {},
   "outputs": [],
   "source": [
    "using Plots\n",
    "using CSV\n",
    "using DelimitedFiles"
   ]
  },
  {
   "cell_type": "markdown",
   "id": "eac41c17-96a9-452a-9251-ee0c58815ef5",
   "metadata": {},
   "source": [
    "## Read data"
   ]
  },
  {
   "cell_type": "code",
   "execution_count": 20,
   "id": "c2460c4b-90c4-41ab-839d-ca0a133e5927",
   "metadata": {},
   "outputs": [],
   "source": [
    "mnist_bp_one_train = readdlm(\"data/MNIST_BP_onelayer/loss_train.csv\", ',', Float64)[:,2]\n",
    "mnist_bp_one_test = readdlm(\"data/MNIST_BP_onelayer/loss_teset.csv\", ',', Float64)[:,2]\n",
    "mnist_bp_two_train = readdlm(\"data/MNIST_BP_twolayer/loss_train.csv\", ',', Float64)[:,2]\n",
    "mnist_bp_two_test = readdlm(\"data/MNIST_BP_twolayer/loss_teset.csv\", ',', Float64)[:,2]\n",
    "\n",
    "mnist_bio_one_train = readdlm(\"data/MNIST_BIO_onelayer/loss_train.csv\", ',', Float64)[:,2]\n",
    "mnist_bio_one_test = readdlm(\"data/MNIST_BIO_onelayer/loss_teset.csv\", ',', Float64)[:,2]\n",
    "mnist_bio_two_train = readdlm(\"data/MNIST_BIO_twolayer/loss_train.csv\", ',', Float64)[:,2]\n",
    "mnist_bio_two_test = readdlm(\"data/MNIST_BIO_twolayer/loss_teset.csv\", ',', Float64)[:,2];"
   ]
  },
  {
   "cell_type": "code",
   "execution_count": 21,
   "id": "fad0bdf3-07e5-4a02-8345-e2ebf4ad3474",
   "metadata": {},
   "outputs": [],
   "source": [
    "cifar_bp_one_train = readdlm(\"data/CIFAR_BP_onelayer/loss_train.csv\", ',', Float64)[:,2]\n",
    "cifar_bp_one_test = readdlm(\"data/CIFAR_BP_onelayer/loss_teset.csv\", ',', Float64)[:,2]\n",
    "cifar_bp_two_train = readdlm(\"data/CIFAR_BP_twolayer/loss_train.csv\", ',', Float64)[:,2]\n",
    "cifar_bp_two_test = readdlm(\"data/CIFAR_BP_twolayer/loss_teset.csv\", ',', Float64)[:,2]\n",
    "\n",
    "cifar_bio_one_train = readdlm(\"data/CIFAR_BIO_onelayer/loss_train.csv\", ',', Float64)[:,2]\n",
    "cifar_bio_one_test = readdlm(\"data/CIFAR_BIO_onelayer/loss_teset.csv\", ',', Float64)[:,2]\n",
    "cifar_bio_two_train = readdlm(\"data/CIFAR_BIO_twolayer/loss_train.csv\", ',', Float64)[:,2]\n",
    "cifar_bio_two_test = readdlm(\"data/CIFAR_BIO_twolayer/loss_teset.csv\", ',', Float64)[:,2];"
   ]
  },
  {
   "cell_type": "code",
   "execution_count": 100,
   "id": "ab499a46-852c-4e71-a605-94088cd8e2ff",
   "metadata": {},
   "outputs": [],
   "source": [
    "mnist_bio_one_onehot_train = readdlm(\"data/MNIST_BIO_ONEHOT/loss_train.csv\", ',', Float64)[:,2]\n",
    "mnist_bio_one_onehot_test = readdlm(\"data/MNIST_BIO_ONEHOT/loss_teset.csv\", ',', Float64)[:,2];\n",
    "cifar_bio_one_onehot_train = readdlm(\"data/CIFAR_BIO_ONEHOT/loss_train.csv\", ',', Float64)[:,2]\n",
    "cifar_bio_one_onehot_test = readdlm(\"data/CIFAR_BIO_ONEHOT/loss_teset.csv\", ',', Float64)[:,2];"
   ]
  },
  {
   "cell_type": "code",
   "execution_count": 33,
   "id": "b6800ce5-c7be-4033-9682-b36e53ec55d7",
   "metadata": {},
   "outputs": [],
   "source": [
    "Plots.scalefontsizes(1.5)"
   ]
  },
  {
   "cell_type": "markdown",
   "id": "a1458375-c769-435b-9acb-85e5bab65128",
   "metadata": {
    "tags": []
   },
   "source": [
    "## Original paper figure result reproduction"
   ]
  },
  {
   "cell_type": "code",
   "execution_count": 95,
   "id": "13787e44-50d4-4b5b-be6a-b8182031334e",
   "metadata": {},
   "outputs": [],
   "source": [
    "E = 1:300\n",
    "plot(E, 1 .- mnist_bp_one_train, label=nothing, xlabel=\"Epoch\", ylabel=\"Error\", title=\"MNIST\", dpi=150)\n",
    "plot!(E, 1 .- mnist_bp_one_test, label=nothing)\n",
    "plot!(E, 1 .- mnist_bio_one_train, label=nothing)\n",
    "plot!(E, 1 .- mnist_bio_one_test, label=nothing)\n",
    "savefig(\"results/mnist_onelayer.png\")"
   ]
  },
  {
   "cell_type": "code",
   "execution_count": 96,
   "id": "e20494bb-2433-4941-a8fc-4987f45a38cb",
   "metadata": {},
   "outputs": [],
   "source": [
    "E = 1:300\n",
    "plot(E, 1 .- cifar_bp_one_train, label=nothing, xlabel=\"Epoch\", ylabel=\"Error\", title=\"CIFAR 10\", dpi=150)\n",
    "plot!(E, 1 .- cifar_bp_one_test, label=nothing)\n",
    "plot!(E, 1 .- cifar_bio_one_train, label=nothing)\n",
    "plot!(E, 1 .- cifar_bio_one_test, label=nothing)\n",
    "savefig(\"results/cifar_onelayer.png\")"
   ]
  },
  {
   "cell_type": "markdown",
   "id": "79485478-4fd5-401f-a972-1aa167450fc9",
   "metadata": {},
   "source": [
    "## Two layer performances"
   ]
  },
  {
   "cell_type": "code",
   "execution_count": 97,
   "id": "a4f2cb69-c20f-454a-866b-24a93c8b4588",
   "metadata": {},
   "outputs": [],
   "source": [
    "E = 1:300\n",
    "plot(E, 1 .- mnist_bio_one_train, label=\"one layer train\", xlabel=\"Epoch\", ylabel=\"Error\", title=\"MNIST\", dpi=150, legend=:bottomright)\n",
    "plot!(E, 1 .- mnist_bio_one_test, label=\"one layer test\")\n",
    "plot!(E, 1 .- mnist_bio_two_train, label=\"two layers train\", dpi=150)\n",
    "plot!(E, 1 .- mnist_bio_two_test, label=\"two layers test\")\n",
    "savefig(\"results/mnist_one_vs_two.png\")"
   ]
  },
  {
   "cell_type": "code",
   "execution_count": 98,
   "id": "381da977-1ea2-4f9e-9e9c-c7f0f9da25d1",
   "metadata": {},
   "outputs": [],
   "source": [
    "E = 1:300\n",
    "plot(E, 1 .- cifar_bio_one_train, label=\"one layer train\", xlabel=\"Epoch\", ylabel=\"Error\", title=\"CIFAR 10\", dpi=150, legend=:bottomright)\n",
    "plot!(E, 1 .- cifar_bio_one_test, label=\"one layer test\")\n",
    "plot!(E, 1 .- cifar_bio_two_train, label=\"two layers train\", dpi=150)\n",
    "plot!(E, 1 .- cifar_bio_two_test, label=\"two layers test\")\n",
    "savefig(\"results/cifar_one_vs_two.png\")"
   ]
  },
  {
   "cell_type": "markdown",
   "id": "ef32185e-6f80-4ef0-bc81-f8195a231f54",
   "metadata": {},
   "source": [
    "## Compare with original loss"
   ]
  },
  {
   "cell_type": "code",
   "execution_count": 107,
   "id": "b67547f3-bf83-424d-88f4-adba0b065b9c",
   "metadata": {},
   "outputs": [],
   "source": [
    "E = 1:300\n",
    "plot(E, 1 .- cifar_bio_one_onehot_train, label=\"original train\", xlabel=\"Epoch\", ylabel=\"Error\", title=\"CIFAR 10\", dpi=150, legend=:bottomright)\n",
    "plot!(E, 1 .- cifar_bio_one_onehot_test, label=\"original test\")\n",
    "plot!(E, 1 .- cifar_bio_one_train, label=\"cross entropy train\")\n",
    "plot!(E, 1 .- cifar_bio_one_test, label=\"cross entropy test\")\n",
    "savefig(\"results/cifar_original_vs_CE.png\")"
   ]
  },
  {
   "cell_type": "code",
   "execution_count": 106,
   "id": "a3912d8c-f700-48ea-ad44-e8d30c8d4a66",
   "metadata": {},
   "outputs": [],
   "source": [
    "E = 1:300\n",
    "plot(E, 1 .- mnist_bio_one_onehot_train, label=\"original train\", xlabel=\"Epoch\", ylabel=\"Error\", title=\"MNIST\", dpi=150, legend=:topright)\n",
    "plot!(E, 1 .- mnist_bio_one_onehot_test, label=\"original test\")\n",
    "plot!(E, 1 .- mnist_bio_one_train, label=\"cross entropy train\")\n",
    "plot!(E, 1 .- mnist_bio_one_test, label=\"cross entropy test\")\n",
    "savefig(\"results/mnist_original_vs_CE.png\")"
   ]
  },
  {
   "cell_type": "code",
   "execution_count": null,
   "id": "8603aef5-37ed-4306-8d81-26a91d6d5c73",
   "metadata": {},
   "outputs": [],
   "source": []
  }
 ],
 "metadata": {
  "kernelspec": {
   "display_name": "Julia 1.7.1",
   "language": "julia",
   "name": "julia-1.7"
  },
  "language_info": {
   "file_extension": ".jl",
   "mimetype": "application/julia",
   "name": "julia",
   "version": "1.7.1"
  }
 },
 "nbformat": 4,
 "nbformat_minor": 5
}
